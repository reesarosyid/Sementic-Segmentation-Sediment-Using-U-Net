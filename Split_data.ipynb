{
 "cells": [
  {
   "cell_type": "code",
   "execution_count": 1,
   "metadata": {},
   "outputs": [],
   "source": [
    "import os\n",
    "import shutil\n",
    "import random"
   ]
  },
  {
   "cell_type": "code",
   "execution_count": 12,
   "metadata": {},
   "outputs": [],
   "source": [
    "# Path ke folder dataset\n",
    "data_enhancement_path = \"Data_enhancement\"\n",
    "data_mask_path = \"Data_mask\""
   ]
  },
  {
   "cell_type": "code",
   "execution_count": 13,
   "metadata": {},
   "outputs": [],
   "source": [
    "# Path output\n",
    "output_dir = \"Data_split\"\n",
    "os.makedirs(output_dir, exist_ok=True)\n",
    "for subset in [\"train\", \"valid\", \"test\"]:\n",
    "    os.makedirs(os.path.join(output_dir, subset, \"images\"), exist_ok=True)\n",
    "    os.makedirs(os.path.join(output_dir, subset, \"masks\"), exist_ok=True)"
   ]
  },
  {
   "cell_type": "code",
   "execution_count": 14,
   "metadata": {},
   "outputs": [],
   "source": [
    "# Ambil semua file di folder data_enhancement\n",
    "image_files = sorted([f for f in os.listdir(data_enhancement_path) if f.endswith(\".bmp\")])\n",
    "\n",
    "# Acak urutan data untuk pemisahan\n",
    "random.seed(42)\n",
    "random.shuffle(image_files)\n",
    "\n",
    "# Hitung jumlah data untuk tiap subset\n",
    "total_images = len(image_files)\n",
    "train_count = int(0.7 * total_images)\n",
    "val_count = int(0.15 * total_images)"
   ]
  },
  {
   "cell_type": "code",
   "execution_count": 15,
   "metadata": {},
   "outputs": [
    {
     "name": "stdout",
     "output_type": "stream",
     "text": [
      "Data berhasil dibagi!\n"
     ]
    }
   ],
   "source": [
    "data_splits = {\n",
    "    \"train\": image_files[:train_count],\n",
    "    \"valid\": image_files[train_count:train_count + val_count],\n",
    "    \"test\": image_files[train_count + val_count:]\n",
    "}\n",
    "\n",
    "# Salin file ke folder yang sesuai\n",
    "for subset, files in data_splits.items():\n",
    "    for img_file in files:\n",
    "        # Path sumber\n",
    "        img_src = os.path.join(data_enhancement_path, img_file)\n",
    "        mask_file = \"mask_\" + img_file  # Menyesuaikan dengan nama mask\n",
    "        mask_src = os.path.join(data_mask_path, mask_file)\n",
    "        \n",
    "        # Path tujuan\n",
    "        img_dst = os.path.join(output_dir, subset, \"images\", img_file)\n",
    "        mask_dst = os.path.join(output_dir, subset, \"masks\", mask_file)\n",
    "        \n",
    "        # Salin file jika mask ada\n",
    "        if os.path.exists(mask_src):\n",
    "            shutil.copy(img_src, img_dst)\n",
    "            shutil.copy(mask_src, mask_dst)\n",
    "        else:\n",
    "            print(f\"Mask tidak ditemukan untuk {img_file}\")\n",
    "\n",
    "print(\"Data berhasil dibagi!\")"
   ]
  },
  {
   "cell_type": "code",
   "execution_count": 16,
   "metadata": {},
   "outputs": [
    {
     "name": "stdout",
     "output_type": "stream",
     "text": [
      "Train - Images: 595, Masks: 595\n",
      "Valid - Images: 127, Masks: 127\n",
      "Test - Images: 129, Masks: 129\n"
     ]
    }
   ],
   "source": [
    "# Hitung jumlah data pada setiap folder\n",
    "for subset in [\"train\", \"valid\", \"test\"]:\n",
    "    image_count = len(os.listdir(os.path.join(output_dir, subset, \"images\")))\n",
    "    mask_count = len(os.listdir(os.path.join(output_dir, subset, \"masks\")))\n",
    "    print(f\"{subset.capitalize()} - Images: {image_count}, Masks: {mask_count}\")"
   ]
  },
  {
   "cell_type": "code",
   "execution_count": null,
   "metadata": {},
   "outputs": [],
   "source": []
  }
 ],
 "metadata": {
  "kernelspec": {
   "display_name": "base",
   "language": "python",
   "name": "python3"
  },
  "language_info": {
   "codemirror_mode": {
    "name": "ipython",
    "version": 3
   },
   "file_extension": ".py",
   "mimetype": "text/x-python",
   "name": "python",
   "nbconvert_exporter": "python",
   "pygments_lexer": "ipython3",
   "version": "3.12.3"
  }
 },
 "nbformat": 4,
 "nbformat_minor": 2
}
