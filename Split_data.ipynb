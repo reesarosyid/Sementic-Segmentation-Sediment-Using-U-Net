{
 "cells": [
  {
   "cell_type": "markdown",
   "metadata": {},
   "source": [
    "<div style=\"text-align: center; font-size: 40px; font-weight: bold;\">\n",
    "    Splitting Data\n",
    "</div>"
   ]
  },
  {
   "cell_type": "markdown",
   "metadata": {},
   "source": [
    "# Libraries"
   ]
  },
  {
   "cell_type": "code",
   "execution_count": 1,
   "metadata": {},
   "outputs": [],
   "source": [
    "import os\n",
    "import shutil\n",
    "import random"
   ]
  },
  {
   "cell_type": "markdown",
   "metadata": {},
   "source": [
    "# Splitting Data"
   ]
  },
  {
   "cell_type": "code",
   "execution_count": 2,
   "metadata": {},
   "outputs": [],
   "source": [
    "# Folder\n",
    "data_enhancement_path = \"Data_enhancement\"\n",
    "data_mask_path = \"Data_mask\""
   ]
  },
  {
   "cell_type": "code",
   "execution_count": 3,
   "metadata": {},
   "outputs": [],
   "source": [
    "# Path output\n",
    "output_dir = \"Data_split\"\n",
    "os.makedirs(output_dir, exist_ok=True)\n",
    "for subset in [\"train\", \"valid\", \"test\"]:\n",
    "    os.makedirs(os.path.join(output_dir, subset, \"images\"), exist_ok=True)\n",
    "    os.makedirs(os.path.join(output_dir, subset, \"masks\"), exist_ok=True)"
   ]
  },
  {
   "cell_type": "code",
   "execution_count": 4,
   "metadata": {},
   "outputs": [],
   "source": [
    "# Get all files in the data_enhancement folder\n",
    "image_files = sorted([f for f in os.listdir(data_enhancement_path) if f.endswith(\".bmp\")])\n",
    "\n",
    "# Shuffle the data order for splitting\n",
    "random.seed(42)\n",
    "random.shuffle(image_files)\n",
    "\n",
    "# Calculate the number of images for each subset\n",
    "total_images = len(image_files)\n",
    "train_count = int(0.7 * total_images)\n",
    "val_count = int(0.15 * total_images)"
   ]
  },
  {
   "cell_type": "code",
   "execution_count": 5,
   "metadata": {},
   "outputs": [
    {
     "name": "stdout",
     "output_type": "stream",
     "text": [
      "Data successfully split!\n"
     ]
    }
   ],
   "source": [
    "data_splits = {\n",
    "    \"train\": image_files[:train_count],\n",
    "    \"valid\": image_files[train_count:train_count + val_count],\n",
    "    \"test\": image_files[train_count + val_count:]\n",
    "}\n",
    "\n",
    "# Copy files to the corresponding folders\n",
    "for subset, files in data_splits.items():\n",
    "    for img_file in files:\n",
    "        # Source path\n",
    "        img_src = os.path.join(data_enhancement_path, img_file)\n",
    "        mask_file = \"mask_\" + img_file  # Match the mask filename\n",
    "        mask_src = os.path.join(data_mask_path, mask_file)\n",
    "        \n",
    "        # Destination path\n",
    "        img_dst = os.path.join(output_dir, subset, \"images\", img_file)\n",
    "        mask_dst = os.path.join(output_dir, subset, \"masks\", mask_file)\n",
    "        \n",
    "        # Copy files if the mask exists\n",
    "        if os.path.exists(mask_src):\n",
    "            shutil.copy(img_src, img_dst)\n",
    "            shutil.copy(mask_src, mask_dst)\n",
    "        else:\n",
    "            print(f\"Mask not found for {img_file}\")\n",
    "\n",
    "print(\"Data successfully split!\")"
   ]
  },
  {
   "cell_type": "markdown",
   "metadata": {},
   "source": [
    "# Check Result Data Split Folder"
   ]
  },
  {
   "cell_type": "code",
   "execution_count": 6,
   "metadata": {},
   "outputs": [
    {
     "name": "stdout",
     "output_type": "stream",
     "text": [
      "Train - Images: 595, Masks: 595\n",
      "Valid - Images: 127, Masks: 127\n",
      "Test - Images: 129, Masks: 129\n"
     ]
    }
   ],
   "source": [
    "# Hitung jumlah data pada setiap folder\n",
    "for subset in [\"train\", \"valid\", \"test\"]:\n",
    "    image_count = len(os.listdir(os.path.join(output_dir, subset, \"images\")))\n",
    "    mask_count = len(os.listdir(os.path.join(output_dir, subset, \"masks\")))\n",
    "    print(f\"{subset.capitalize()} - Images: {image_count}, Masks: {mask_count}\")"
   ]
  },
  {
   "cell_type": "code",
   "execution_count": 7,
   "metadata": {},
   "outputs": [
    {
     "name": "stdout",
     "output_type": "stream",
     "text": [
      "Train - Images: 595, Masks: 595\n",
      "Valid - Images: 127, Masks: 127\n",
      "Test - Images: 129, Masks: 129\n"
     ]
    }
   ],
   "source": [
    "# Count the number of data in each folder\n",
    "for subset in [\"train\", \"valid\", \"test\"]:\n",
    "    image_count = len(os.listdir(os.path.join(output_dir, subset, \"images\")))\n",
    "    mask_count = len(os.listdir(os.path.join(output_dir, subset, \"masks\")))\n",
    "    print(f\"{subset.capitalize()} - Images: {image_count}, Masks: {mask_count}\")"
   ]
  }
 ],
 "metadata": {
  "kernelspec": {
   "display_name": "Python 3",
   "language": "python",
   "name": "python3"
  },
  "language_info": {
   "codemirror_mode": {
    "name": "ipython",
    "version": 3
   },
   "file_extension": ".py",
   "mimetype": "text/x-python",
   "name": "python",
   "nbconvert_exporter": "python",
   "pygments_lexer": "ipython3",
   "version": "3.9.18"
  }
 },
 "nbformat": 4,
 "nbformat_minor": 2
}
